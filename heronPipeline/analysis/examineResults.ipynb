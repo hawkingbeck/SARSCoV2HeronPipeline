{
 "cells": [
  {
   "cell_type": "code",
   "execution_count": 1,
   "metadata": {},
   "outputs": [],
   "source": [
    "import pandas as pd\n",
    "from datetime import datetime"
   ]
  },
  {
   "cell_type": "code",
   "execution_count": 7,
   "metadata": {},
   "outputs": [],
   "source": [
    "resultsFilename = \"/Users/samproctor/sangerInstitute/data/results/arn_aws_states_eu-west-1_889562587392_execution_HeronProdStackstateMachinepipelineStateMachine85DBF143-HynB88iTmOD0_14c8382d-8ef6-4ee8-b61f-118caee4463a.csv\"\n",
    "\n",
    "resultsDf = pd.read_csv(resultsFilename)\n",
    "resultsDf['runCompleteDate'] = [datetime.fromtimestamp(f) for f in resultsDf['runCompleteDate']]"
   ]
  },
  {
   "cell_type": "code",
   "execution_count": 9,
   "metadata": {},
   "outputs": [
    {
     "data": {
      "text/html": [
       "<div>\n",
       "<style scoped>\n",
       "    .dataframe tbody tr th:only-of-type {\n",
       "        vertical-align: middle;\n",
       "    }\n",
       "\n",
       "    .dataframe tbody tr th {\n",
       "        vertical-align: top;\n",
       "    }\n",
       "\n",
       "    .dataframe thead th {\n",
       "        text-align: right;\n",
       "    }\n",
       "</style>\n",
       "<table border=\"1\" class=\"dataframe\">\n",
       "  <thead>\n",
       "    <tr style=\"text-align: right;\">\n",
       "      <th></th>\n",
       "      <th>consensusFastaHash</th>\n",
       "      <th>runCompleteDate</th>\n",
       "      <th>lastChangedDate</th>\n",
       "      <th>run</th>\n",
       "      <th>tag</th>\n",
       "      <th>cogUkId</th>\n",
       "      <th>lane</th>\n",
       "      <th>processingState_x</th>\n",
       "      <th>scorpioConflict</th>\n",
       "      <th>pangoAmbiguityScore</th>\n",
       "      <th>...</th>\n",
       "      <th>pangoConflict</th>\n",
       "      <th>pangoUsherCallDate</th>\n",
       "      <th>pangoCallDate</th>\n",
       "      <th>pangoLearnVersion</th>\n",
       "      <th>genotypeVariantConf</th>\n",
       "      <th>genotypeProfile</th>\n",
       "      <th>processingState_y</th>\n",
       "      <th>pangoVersion</th>\n",
       "      <th>armadillinLineage</th>\n",
       "      <th>armadillinCallDate</th>\n",
       "    </tr>\n",
       "  </thead>\n",
       "  <tbody>\n",
       "    <tr>\n",
       "      <th>235403</th>\n",
       "      <td>24eb1baaa2d17c18545e47b7c7050b72</td>\n",
       "      <td>2021-11-25 12:29:51</td>\n",
       "      <td>1637950959</td>\n",
       "      <td>42178</td>\n",
       "      <td>308</td>\n",
       "      <td>ALDP-2B4DF63</td>\n",
       "      <td>2</td>\n",
       "      <td>consensus</td>\n",
       "      <td>0.0</td>\n",
       "      <td>0.992569</td>\n",
       "      <td>...</td>\n",
       "      <td>0</td>\n",
       "      <td>1637961179</td>\n",
       "      <td>1637961179</td>\n",
       "      <td>2021-11-18</td>\n",
       "      <td>none</td>\n",
       "      <td>none</td>\n",
       "      <td>aligned</td>\n",
       "      <td>v1.2.97</td>\n",
       "      <td>B.1.1</td>\n",
       "      <td>1.637961e+09</td>\n",
       "    </tr>\n",
       "    <tr>\n",
       "      <th>637157</th>\n",
       "      <td>0804df59eb70fe7bc77a87e46ddda370</td>\n",
       "      <td>2021-11-25 19:01:57</td>\n",
       "      <td>1637931374</td>\n",
       "      <td>42190</td>\n",
       "      <td>244</td>\n",
       "      <td>MILK-2B67570</td>\n",
       "      <td>1</td>\n",
       "      <td>consensus</td>\n",
       "      <td>0.0</td>\n",
       "      <td>0.992569</td>\n",
       "      <td>...</td>\n",
       "      <td>0</td>\n",
       "      <td>1637957138</td>\n",
       "      <td>1637957138</td>\n",
       "      <td>2021-11-18</td>\n",
       "      <td>none</td>\n",
       "      <td>none</td>\n",
       "      <td>aligned</td>\n",
       "      <td>v1.2.97</td>\n",
       "      <td>B.1.1</td>\n",
       "      <td>1.637950e+09</td>\n",
       "    </tr>\n",
       "  </tbody>\n",
       "</table>\n",
       "<p>2 rows × 33 columns</p>\n",
       "</div>"
      ],
      "text/plain": [
       "                      consensusFastaHash     runCompleteDate  lastChangedDate  \\\n",
       "235403  24eb1baaa2d17c18545e47b7c7050b72 2021-11-25 12:29:51       1637950959   \n",
       "637157  0804df59eb70fe7bc77a87e46ddda370 2021-11-25 19:01:57       1637931374   \n",
       "\n",
       "          run  tag       cogUkId  lane processingState_x  scorpioConflict  \\\n",
       "235403  42178  308  ALDP-2B4DF63     2         consensus              0.0   \n",
       "637157  42190  244  MILK-2B67570     1         consensus              0.0   \n",
       "\n",
       "        pangoAmbiguityScore  ... pangoConflict pangoUsherCallDate  \\\n",
       "235403             0.992569  ...             0         1637961179   \n",
       "637157             0.992569  ...             0         1637957138   \n",
       "\n",
       "       pangoCallDate pangoLearnVersion  genotypeVariantConf genotypeProfile  \\\n",
       "235403    1637961179        2021-11-18                 none            none   \n",
       "637157    1637957138        2021-11-18                 none            none   \n",
       "\n",
       "        processingState_y pangoVersion armadillinLineage armadillinCallDate  \n",
       "235403            aligned      v1.2.97             B.1.1       1.637961e+09  \n",
       "637157            aligned      v1.2.97             B.1.1       1.637950e+09  \n",
       "\n",
       "[2 rows x 33 columns]"
      ]
     },
     "execution_count": 9,
     "metadata": {},
     "output_type": "execute_result"
    }
   ],
   "source": [
    "cols = resultsDf.columns\n",
    "cols\n",
    "userCalls = resultsDf.loc[resultsDf['pangoUsherLineage'] == \"B.1.1.529\"]\n"
   ]
  },
  {
   "cell_type": "code",
   "execution_count": 12,
   "metadata": {},
   "outputs": [
    {
     "data": {
      "text/html": [
       "<div>\n",
       "<style scoped>\n",
       "    .dataframe tbody tr th:only-of-type {\n",
       "        vertical-align: middle;\n",
       "    }\n",
       "\n",
       "    .dataframe tbody tr th {\n",
       "        vertical-align: top;\n",
       "    }\n",
       "\n",
       "    .dataframe thead th {\n",
       "        text-align: right;\n",
       "    }\n",
       "</style>\n",
       "<table border=\"1\" class=\"dataframe\">\n",
       "  <thead>\n",
       "    <tr style=\"text-align: right;\">\n",
       "      <th></th>\n",
       "      <th>consensusFastaHash</th>\n",
       "      <th>runCompleteDate</th>\n",
       "      <th>lastChangedDate</th>\n",
       "      <th>run</th>\n",
       "      <th>tag</th>\n",
       "      <th>cogUkId</th>\n",
       "      <th>lane</th>\n",
       "      <th>processingState_x</th>\n",
       "      <th>scorpioConflict</th>\n",
       "      <th>pangoAmbiguityScore</th>\n",
       "      <th>...</th>\n",
       "      <th>pangoConflict</th>\n",
       "      <th>pangoUsherCallDate</th>\n",
       "      <th>pangoCallDate</th>\n",
       "      <th>pangoLearnVersion</th>\n",
       "      <th>genotypeVariantConf</th>\n",
       "      <th>genotypeProfile</th>\n",
       "      <th>processingState_y</th>\n",
       "      <th>pangoVersion</th>\n",
       "      <th>armadillinLineage</th>\n",
       "      <th>armadillinCallDate</th>\n",
       "    </tr>\n",
       "  </thead>\n",
       "  <tbody>\n",
       "  </tbody>\n",
       "</table>\n",
       "<p>0 rows × 33 columns</p>\n",
       "</div>"
      ],
      "text/plain": [
       "Empty DataFrame\n",
       "Columns: [consensusFastaHash, runCompleteDate, lastChangedDate, run, tag, cogUkId, lane, processingState_x, scorpioConflict, pangoAmbiguityScore, version, pangoLineage, consensusFastaPath, genotypeVariant, pctCoveredBases, scorpioCall, scorpioSupport, pangoNote, pangoUsherLineage, seqHash, pangolinVersion, genotypeCallDate, numAlignedReads, pangoConflict, pangoUsherCallDate, pangoCallDate, pangoLearnVersion, genotypeVariantConf, genotypeProfile, processingState_y, pangoVersion, armadillinLineage, armadillinCallDate]\n",
       "Index: []\n",
       "\n",
       "[0 rows x 33 columns]"
      ]
     },
     "execution_count": 12,
     "metadata": {},
     "output_type": "execute_result"
    }
   ],
   "source": [
    "resultsDf['armadillinLineage'].unique()\n",
    "armCalls = resultsDf.loc[resultsDf['armadillinLineage'] == \"B.1.1.529\"]\n",
    "armCalls"
   ]
  },
  {
   "cell_type": "code",
   "execution_count": 10,
   "metadata": {},
   "outputs": [
    {
     "data": {
      "text/plain": [
       "Index(['consensusFastaHash', 'runCompleteDate', 'lastChangedDate', 'run',\n",
       "       'tag', 'cogUkId', 'lane', 'processingState_x', 'scorpioConflict',\n",
       "       'pangoAmbiguityScore', 'version', 'pangoLineage', 'consensusFastaPath',\n",
       "       'genotypeVariant', 'pctCoveredBases', 'scorpioCall', 'scorpioSupport',\n",
       "       'pangoNote', 'pangoUsherLineage', 'seqHash', 'pangolinVersion',\n",
       "       'genotypeCallDate', 'numAlignedReads', 'pangoConflict',\n",
       "       'pangoUsherCallDate', 'pangoCallDate', 'pangoLearnVersion',\n",
       "       'genotypeVariantConf', 'genotypeProfile', 'processingState_y',\n",
       "       'pangoVersion', 'armadillinLineage', 'armadillinCallDate'],\n",
       "      dtype='object')"
      ]
     },
     "execution_count": 10,
     "metadata": {},
     "output_type": "execute_result"
    }
   ],
   "source": [
    "cols"
   ]
  }
 ],
 "metadata": {
  "interpreter": {
   "hash": "9183e16fe5614c38cb20db9cf4f7c05f99f8166715bf801304090f424f0855c4"
  },
  "kernelspec": {
   "display_name": "Python 3.8.6 64-bit ('deepLearning': conda)",
   "name": "python3"
  },
  "language_info": {
   "codemirror_mode": {
    "name": "ipython",
    "version": 3
   },
   "file_extension": ".py",
   "mimetype": "text/x-python",
   "name": "python",
   "nbconvert_exporter": "python",
   "pygments_lexer": "ipython3",
   "version": "3.9.2"
  },
  "orig_nbformat": 4
 },
 "nbformat": 4,
 "nbformat_minor": 2
}
