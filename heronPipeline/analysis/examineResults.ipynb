{
 "cells": [
  {
   "cell_type": "code",
   "execution_count": 4,
   "metadata": {},
   "outputs": [],
   "source": [
    "import pandas as pd\n",
    "from datetime import datetime"
   ]
  },
  {
   "cell_type": "code",
   "execution_count": 8,
   "metadata": {},
   "outputs": [],
   "source": [
    "resultsFilename = \"/Users/samproctor/sangerInstitute/data/results/arn_aws_states_eu-west-1_889562587392_execution_pipelineStateMachineD32A04A0-Y1X5CoLGHnyF_f50c709c-6719-4382-8d7e-def4fbc58531.csv\"\n",
    "\n",
    "resultsDf = pd.read_csv(resultsFilename)\n",
    "resultsDf['runCompleteDate'] = [datetime.fromtimestamp(f) for f in resultsDf['runCompleteDate']]"
   ]
  },
  {
   "cell_type": "code",
   "execution_count": 27,
   "metadata": {},
   "outputs": [
    {
     "name": "stdout",
     "output_type": "stream",
     "text": [
      "Len: 850599, dedup: 0\n"
     ]
    }
   ],
   "source": [
    "resultsDf.sort_values(by=['runCompleteDate'], ascending=False, inplace=True)\n",
    "\n",
    "resultsDf.head()\n",
    "duplicated = resultsDf[resultsDf.duplicated(['cogUkId'], keep=False)]\n",
    "print(f\"Len: {len(resultsDf)}, dedup: {len(duplicated)}\")\n",
    "# ids = resultsDf['cogUkId']\n",
    "# resultsDf[ids.isin(ids[ids.duplicated()])].sort_values(\"cogUkId\")"
   ]
  }
 ],
 "metadata": {
  "interpreter": {
   "hash": "9183e16fe5614c38cb20db9cf4f7c05f99f8166715bf801304090f424f0855c4"
  },
  "kernelspec": {
   "display_name": "Python 3.8.6 64-bit ('deepLearning': conda)",
   "name": "python3"
  },
  "language_info": {
   "codemirror_mode": {
    "name": "ipython",
    "version": 3
   },
   "file_extension": ".py",
   "mimetype": "text/x-python",
   "name": "python",
   "nbconvert_exporter": "python",
   "pygments_lexer": "ipython3",
   "version": "3.8.6"
  },
  "orig_nbformat": 4
 },
 "nbformat": 4,
 "nbformat_minor": 2
}
