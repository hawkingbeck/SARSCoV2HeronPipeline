{
 "cells": [
  {
   "cell_type": "code",
   "execution_count": null,
   "metadata": {},
   "outputs": [],
   "source": [
    "import pandas as pd"
   ]
  }
 ],
 "metadata": {
  "interpreter": {
   "hash": "9183e16fe5614c38cb20db9cf4f7c05f99f8166715bf801304090f424f0855c4"
  },
  "kernelspec": {
   "display_name": "Python 3.8.6 64-bit ('deepLearning': conda)",
   "name": "python3"
  },
  "language_info": {
   "name": "python",
   "version": "3.8.6"
  },
  "orig_nbformat": 4
 },
 "nbformat": 4,
 "nbformat_minor": 2
}
