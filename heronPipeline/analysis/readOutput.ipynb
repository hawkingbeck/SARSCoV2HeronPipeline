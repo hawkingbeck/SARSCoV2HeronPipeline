{
 "cells": [
  {
   "cell_type": "code",
   "execution_count": 1,
   "metadata": {},
   "outputs": [],
   "source": [
    "import pandas as pd\n",
    "import json\n",
    "\n",
    "filename = \"/Users/samproctor/Downloads/5y3qypwd5mybdpckoa4xz2rgk4.json\""
   ]
  },
  {
   "cell_type": "code",
   "execution_count": 5,
   "metadata": {},
   "outputs": [],
   "source": [
    "def extractValue(dict, param, key):\n",
    "  if param in dict.keys():\n",
    "    paramDict = dict[param]\n",
    "    if key in paramDict.keys():\n",
    "      return paramDict[key]\n",
    "    else:\n",
    "      return \"N/A\"\n",
    "  else:\n",
    "    return \"N/A\""
   ]
  },
  {
   "cell_type": "code",
   "execution_count": null,
   "metadata": {},
   "outputs": [],
   "source": []
  },
  {
   "cell_type": "code",
   "execution_count": 3,
   "metadata": {},
   "outputs": [],
   "source": [
    "with open(filename) as jsonFile:\n",
    "  dynamoLines = jsonFile.readlines()\n",
    "  # dynamoItem = json.loads(jsonFile.read()"
   ]
  },
  {
   "cell_type": "code",
   "execution_count": 26,
   "metadata": {},
   "outputs": [
    {
     "data": {
      "text/plain": [
       "'plausible-scanner:confirmed pentagon-refining:confirmed'"
      ]
     },
     "execution_count": 26,
     "metadata": {},
     "output_type": "execute_result"
    }
   ],
   "source": [
    "jsonObject = json.loads(dynamoLines[0])[\"Item\"]\n",
    "\n",
    "\n",
    "\n",
    "# paramDict\n",
    "# jsonObject['matchedGenotypeProfiles'][\"M\"]\n",
    "\n",
    "values = extractValue(jsonObject, 'matchedGenotypeProfiles', 'M')\n",
    "\n",
    "keys = list(values.keys())\n",
    "matchedGenotypes = \"\"\n",
    "for key in keys:\n",
    "  conf = values[key]['S']\n",
    "  matchedGenotypes += f\"{key}:{conf} \"\n",
    "\n",
    "matchedGenotypes[0:-1]\n"
   ]
  }
 ],
 "metadata": {
  "interpreter": {
   "hash": "0d91a858513072247684c7e05ce753e644813683237dc67b45f524641e694757"
  },
  "kernelspec": {
   "display_name": "Python 3.9.2 ('sanger')",
   "language": "python",
   "name": "python3"
  },
  "language_info": {
   "codemirror_mode": {
    "name": "ipython",
    "version": 3
   },
   "file_extension": ".py",
   "mimetype": "text/x-python",
   "name": "python",
   "nbconvert_exporter": "python",
   "pygments_lexer": "ipython3",
   "version": "3.9.2"
  },
  "orig_nbformat": 4
 },
 "nbformat": 4,
 "nbformat_minor": 2
}
