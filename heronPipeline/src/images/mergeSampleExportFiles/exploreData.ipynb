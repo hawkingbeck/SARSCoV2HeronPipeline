{
 "cells": [
  {
   "cell_type": "code",
   "execution_count": 1,
   "metadata": {},
   "outputs": [],
   "source": [
    "import json"
   ]
  },
  {
   "cell_type": "code",
   "execution_count": 5,
   "metadata": {},
   "outputs": [],
   "source": [
    "dataFilePath = \"/Users/samproctor/sangerInstitute/data/samplesExport/b2nnpqrwqu3v5mq4ne3mb723ca.json\""
   ]
  },
  {
   "cell_type": "code",
   "execution_count": 3,
   "metadata": {},
   "outputs": [],
   "source": [
    "def extractValue(dict, param, key):\n",
    "  if param in dict.keys():\n",
    "    paramDict = dict[param]\n",
    "    if key in paramDict.keys():\n",
    "      return paramDict[key]\n",
    "    else:\n",
    "      return \"N/A\"\n",
    "  else:\n",
    "    return \"N/A\"\n",
    "    \n",
    "def createDict(dynamoItem):\n",
    "  dynamoItem = json.loads(dynamoItem)\n",
    "  dynamoItem = dynamoItem['Item']\n",
    "  \n",
    "  newDict = {\n",
    "        'cogUkId': extractValue(dynamoItem, 'cogUkId', 'S'),\n",
    "        'runMetaData': extractValue(dynamoItem, 'runMetaData', 'S'),\n",
    "        'consensusFastaHash': extractValue(dynamoItem, 'consensusFastaHash', 'S'),\n",
    "        'runCompleteDate': extractValue(dynamoItem, 'runCompleteDate', 'N'),\n",
    "        'lastChangedDate': extractValue(dynamoItem, 'lastChangedDate', 'N'),\n",
    "        'run' : extractValue(dynamoItem, 'run','N'),\n",
    "        'lane': extractValue(dynamoItem, 'lane', 'N'),\n",
    "        'tag' : extractValue(dynamoItem, 'tag', 'N')\n",
    "  }\n",
    "\n",
    "  return newDict"
   ]
  },
  {
   "cell_type": "code",
   "execution_count": 9,
   "metadata": {},
   "outputs": [],
   "source": [
    "with open(dataFilePath) as f:\n",
    "  dynamoLines = f.readlines()\n",
    "  frames = [createDict(f) for f in dynamoLines if f != '\\n']\n",
    "\n",
    "# for line in dynamoLines:\n",
    "#   aLine = line\n",
    "#   newDict = createDict(line)"
   ]
  },
  {
   "cell_type": "code",
   "execution_count": 12,
   "metadata": {},
   "outputs": [
    {
     "name": "stdout",
     "output_type": "stream",
     "text": [
      "544229 - 544230\n"
     ]
    }
   ],
   "source": [
    "print(f\"{len(frames)} - {len(dynamoLines)}\")"
   ]
  }
 ],
 "metadata": {
  "interpreter": {
   "hash": "0d91a858513072247684c7e05ce753e644813683237dc67b45f524641e694757"
  },
  "kernelspec": {
   "display_name": "Python 3.9.2 ('sanger')",
   "language": "python",
   "name": "python3"
  },
  "language_info": {
   "codemirror_mode": {
    "name": "ipython",
    "version": 3
   },
   "file_extension": ".py",
   "mimetype": "text/x-python",
   "name": "python",
   "nbconvert_exporter": "python",
   "pygments_lexer": "ipython3",
   "version": "3.9.2"
  },
  "orig_nbformat": 4
 },
 "nbformat": 4,
 "nbformat_minor": 2
}
